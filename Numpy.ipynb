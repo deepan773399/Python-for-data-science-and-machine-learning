{
 "cells": [
  {
   "cell_type": "code",
   "execution_count": 68,
   "metadata": {},
   "outputs": [
    {
     "data": {
      "text/plain": [
       "array([1, 2, 4, 3, 7, 5])"
      ]
     },
     "execution_count": 68,
     "metadata": {},
     "output_type": "execute_result"
    }
   ],
   "source": [
    "#Name - deepanshu jain\n",
    "\n",
    "\n",
    "\n",
    "#!pip install numpy\n",
    "#Array manipulation\n",
    "\n",
    "# 1d array\n",
    "\n",
    "import numpy as np\n",
    "\n",
    "arr_1=np.array([1,2,4,3,7,5])\n",
    "arr_1"
   ]
  },
  {
   "cell_type": "code",
   "execution_count": 69,
   "metadata": {},
   "outputs": [
    {
     "data": {
      "text/plain": [
       "array([[1, 2, 3],\n",
       "       [4, 5, 6]])"
      ]
     },
     "execution_count": 69,
     "metadata": {},
     "output_type": "execute_result"
    }
   ],
   "source": [
    "#2d array\n",
    "\n",
    "arr_2 = np.array([[1,2,3],[4,5,6]])\n",
    "arr_2"
   ]
  },
  {
   "cell_type": "code",
   "execution_count": 70,
   "metadata": {},
   "outputs": [
    {
     "data": {
      "text/plain": [
       "array([1., 1., 1., 1., 1.])"
      ]
     },
     "execution_count": 70,
     "metadata": {},
     "output_type": "execute_result"
    }
   ],
   "source": [
    "#Empty array of size n having n garbage values\n",
    "\n",
    "arr_3 = np.empty(5)\n",
    "arr_3"
   ]
  },
  {
   "cell_type": "code",
   "execution_count": 71,
   "metadata": {},
   "outputs": [
    {
     "name": "stdout",
     "output_type": "stream",
     "text": [
      "[1. 1. 1. 1. 1. 1.]\n",
      "[1. 1. 1. 1. 1.]\n"
     ]
    },
    {
     "data": {
      "text/plain": [
       "array([1., 1., 1., 1., 1.])"
      ]
     },
     "execution_count": 71,
     "metadata": {},
     "output_type": "execute_result"
    }
   ],
   "source": [
    "#list of one\n",
    "print(np.ones(6))\n",
    "#array of one\n",
    "print(np.array(np.ones(5)))\n",
    "x=np.ones(5)\n",
    "x"
   ]
  },
  {
   "cell_type": "code",
   "execution_count": 72,
   "metadata": {},
   "outputs": [
    {
     "name": "stdout",
     "output_type": "stream",
     "text": [
      "[0. 0. 0. 0. 0. 0.]\n"
     ]
    },
    {
     "data": {
      "text/plain": [
       "array([[0., 0.],\n",
       "       [0., 0.]])"
      ]
     },
     "execution_count": 72,
     "metadata": {},
     "output_type": "execute_result"
    }
   ],
   "source": [
    "#List of zeroes\n",
    "print(np.zeros(6))\n",
    "#Zero matrix\n",
    "np.array([np.zeros(2),np.zeros(2)])"
   ]
  },
  {
   "cell_type": "code",
   "execution_count": 81,
   "metadata": {},
   "outputs": [
    {
     "name": "stdout",
     "output_type": "stream",
     "text": [
      "[[1. 0. 0. 0. 0. 0.]\n",
      " [0. 1. 0. 0. 0. 0.]\n",
      " [0. 0. 1. 0. 0. 0.]\n",
      " [0. 0. 0. 1. 0. 0.]\n",
      " [0. 0. 0. 0. 1. 0.]\n",
      " [0. 0. 0. 0. 0. 1.]]\n",
      "5\n",
      "[[1. 0. 0. 0. 0.]\n",
      " [0. 1. 0. 0. 0.]\n",
      " [0. 0. 1. 0. 0.]\n",
      " [0. 0. 0. 1. 0.]\n",
      " [0. 0. 0. 0. 1.]]\n"
     ]
    },
    {
     "data": {
      "text/plain": [
       "array([[1., 0., 0., 0., 0.],\n",
       "       [0., 1., 0., 0., 0.],\n",
       "       [0., 0., 1., 0., 0.],\n",
       "       [0., 0., 0., 1., 0.],\n",
       "       [0., 0., 0., 0., 1.]])"
      ]
     },
     "execution_count": 81,
     "metadata": {},
     "output_type": "execute_result"
    }
   ],
   "source": [
    "#Identity matrix\n",
    "print(np.eye(6))\n",
    "n=int(input())\n",
    "print(np.eye(n));np.eye(n)"
   ]
  },
  {
   "cell_type": "code",
   "execution_count": 74,
   "metadata": {},
   "outputs": [
    {
     "data": {
      "text/plain": [
       "array([ 1,  6, 11, 16, 21, 26, 31, 36, 41, 46, 51, 56])"
      ]
     },
     "execution_count": 74,
     "metadata": {},
     "output_type": "execute_result"
    }
   ],
   "source": [
    "np.arange(1,60,5)\n",
    "#Not arrange"
   ]
  },
  {
   "cell_type": "code",
   "execution_count": 75,
   "metadata": {},
   "outputs": [
    {
     "name": "stdout",
     "output_type": "stream",
     "text": [
      "[1 2 3 4]\n",
      "2\n"
     ]
    },
    {
     "data": {
      "text/plain": [
       "array([1, 2, 3, 4])"
      ]
     },
     "execution_count": 75,
     "metadata": {},
     "output_type": "execute_result"
    }
   ],
   "source": [
    "#Indexing in array\n",
    "\n",
    "x=np.arange(1,5,1)\n",
    "print(x)\n",
    "print(x[1])\n",
    "x"
   ]
  },
  {
   "cell_type": "code",
   "execution_count": 76,
   "metadata": {},
   "outputs": [
    {
     "name": "stdout",
     "output_type": "stream",
     "text": [
      "[[1 2 3]\n",
      " [4 5 6]]\n",
      "[[1 2]\n",
      " [4 5]]\n",
      "[[10 10  3]\n",
      " [10 10  6]]\n"
     ]
    }
   ],
   "source": [
    "#Slicing\n",
    "x=np.array([1,2,4,5,7])\n",
    "x[0:5:2]\n",
    "y=np.array([[1,2,3],[4,5,6]])\n",
    "print(y)\n",
    "print(y[0:2,0:2])\n",
    "y[0:2,0:2]=10\n",
    "print(y)"
   ]
  },
  {
   "cell_type": "code",
   "execution_count": 80,
   "metadata": {},
   "outputs": [
    {
     "name": "stdout",
     "output_type": "stream",
     "text": [
      "[1 2 4 5 7]\n",
      "[1 2 4 5]\n",
      "[1 2 4 5 7]\n",
      "[1 2 4 5 7]\n",
      "[5 5 5 5 5]\n",
      "[1 2 4 5 7]\n"
     ]
    }
   ],
   "source": [
    "#createcopy of array\n",
    "print(x)\n",
    "x_copy=x[0:4]\n",
    "np.array(x_copy)\n",
    "print(x_copy)\n",
    "\n",
    "print(x)\n",
    "#So the original array will change if we change the copy array \n",
    "#Therefore we use x.copy() function\n",
    "z_copy = x.copy()\n",
    "print(z_copy)\n",
    "z_copy[:]=5\n",
    "print(z_copy)\n",
    "print(x)"
   ]
  },
  {
   "cell_type": "code",
   "execution_count": 113,
   "metadata": {},
   "outputs": [
    {
     "name": "stdout",
     "output_type": "stream",
     "text": [
      "[[1 2 3]\n",
      " [4 5 6]]\n",
      "[ 0  1  2  3  4  5  6  7  8  9 10 11 12 13 14 15 16 17 18 19 20 21 22 23\n",
      " 24]\n",
      "[[ 0  1  2  3  4]\n",
      " [ 5  6  7  8  9]\n",
      " [10 11 12 13 14]\n",
      " [15 16 17 18 19]\n",
      " [20 21 22 23 24]]\n",
      "[[1 2]\n",
      " [3 4]\n",
      " [5 6]]\n"
     ]
    }
   ],
   "source": [
    "#reshaping the array\n",
    "print(arr_2)\n",
    "x=np.arange(0,25,1)\n",
    "print(x)\n",
    "x=x.reshape(5,5)\n",
    "print(x)\n",
    "print(arr_2.reshape(3,2))"
   ]
  },
  {
   "cell_type": "code",
   "execution_count": 114,
   "metadata": {},
   "outputs": [
    {
     "name": "stdout",
     "output_type": "stream",
     "text": [
      "[[ 0  1  2  3  4]\n",
      " [ 5  6  7  8  9]\n",
      " [10 11 12 13 14]\n",
      " [15 16 17 18 19]\n",
      " [20 21 22 23 24]]\n",
      "Transpose is \n",
      "[[ 0  5 10 15 20]\n",
      " [ 1  6 11 16 21]\n",
      " [ 2  7 12 17 22]\n",
      " [ 3  8 13 18 23]\n",
      " [ 4  9 14 19 24]]\n",
      "[[ 0  1  2  3  4]\n",
      " [ 5  6  7  8  9]\n",
      " [10 11 12 13 14]\n",
      " [15 16 17 18 19]\n",
      " [20 21 22 23 24]]\n"
     ]
    }
   ],
   "source": [
    "#Transposing arrays\n",
    "print(x)\n",
    "print(\"Transpose is \")\n",
    "print(x.transpose())\n",
    "print(x)"
   ]
  },
  {
   "cell_type": "code",
   "execution_count": 101,
   "metadata": {},
   "outputs": [
    {
     "name": "stdout",
     "output_type": "stream",
     "text": [
      "[1 3 5]\n",
      "[1 5 9]\n",
      "[  2.71828183  20.08553692 148.4131591 ]\n",
      "[ 1  9 25]\n",
      "[1.         1.73205081 2.23606798]\n",
      "[1.         1.44224957 1.70997595]\n",
      "[ 2  8 14]\n",
      "[ 0 -2 -4]\n"
     ]
    }
   ],
   "source": [
    "#Functions in array\n",
    "x=np.arange(1,6,2)\n",
    "y=np.arange(1,11,4)\n",
    "print(x)\n",
    "print(y)\n",
    "\n",
    "#exponential of arrays\n",
    "print(np.exp(x))\n",
    "#square\n",
    "print(np.square(x))\n",
    "#square root\n",
    "print(np.sqrt(x))\n",
    "#cube root\n",
    "print(np.cbrt(x))\n",
    "#add\n",
    "print(np.add(x,y))\n",
    "#Subtraction\n",
    "print(np.subtract(x,y))"
   ]
  },
  {
   "cell_type": "code",
   "execution_count": 103,
   "metadata": {},
   "outputs": [
    {
     "name": "stdout",
     "output_type": "stream",
     "text": [
      "[1 3 9]\n"
     ]
    }
   ],
   "source": [
    "#numpy array processing functions\n",
    "cond=np.array([True,True,False])\n",
    "print(np.where(cond,x,y))"
   ]
  },
  {
   "cell_type": "code",
   "execution_count": 111,
   "metadata": {},
   "outputs": [
    {
     "name": "stdout",
     "output_type": "stream",
     "text": [
      "[0.97889439 0.93139467 0.09552012 0.98536727 0.07552609 0.14379391\n",
      " 0.73661432]\n",
      "0.5638729653552652\n",
      "0.16415935524993053\n",
      "0.4051658367260627\n",
      "3.9471107574868567\n",
      "[0.07552609 0.09552012 0.14379391 0.73661432 0.93139467 0.97889439\n",
      " 0.98536727]\n"
     ]
    },
    {
     "data": {
      "text/plain": [
       "array(['bike', 'car'], dtype='<U4')"
      ]
     },
     "execution_count": 111,
     "metadata": {},
     "output_type": "execute_result"
    }
   ],
   "source": [
    "#random function\n",
    "arr1=np.random.rand(7)\n",
    "print(arr1)\n",
    "#mean\n",
    "print(arr1.mean())\n",
    "#variance\n",
    "print(arr1.var())\n",
    "#standard deviation\n",
    "print(arr1.std())\n",
    "#sum\n",
    "print(arr1.sum())\n",
    "#sort\n",
    "arr1.sort()\n",
    "print(arr1)\n",
    "#unique\n",
    "arr2=[\"car\",\"car\",\"car\",\"bike\",\"car\"]\n",
    "np.unique(arr2)"
   ]
  },
  {
   "cell_type": "code",
   "execution_count": 184,
   "metadata": {},
   "outputs": [
    {
     "name": "stdout",
     "output_type": "stream",
     "text": [
      "Arrray is \n",
      " [[123  22  89 145  63 122  80 110 108 115]\n",
      " [  5  43   7  95  55 141  95  48 109  20]\n",
      " [ 60  22 107  32  86  21 131  22   9 135]\n",
      " [103  38  52  20  94 121 121 112  75 102]\n",
      " [ 49  64 134   5  48  18  87  23 134 120]\n",
      " [ 96   9 116  79   9 118   8  76  61 105]\n",
      " [135  60  12 116  60   3  27  54  76  91]\n",
      " [ 73  48 106 148  90  47  66  29  97 110]\n",
      " [ 54 116  74  30  78 139  11  94 140  67]\n",
      " [ 12  48  27  83 111 116  10   9  88   7]]\n",
      "Number of rows in array is  10\n"
     ]
    },
    {
     "data": {
      "text/plain": [
       "([22, 5, 9, 20, 5, 8, 3, 29, 11, 7],\n",
       " [145, 141, 135, 121, 134, 118, 135, 148, 140, 116])"
      ]
     },
     "execution_count": 184,
     "metadata": {},
     "output_type": "execute_result"
    }
   ],
   "source": [
    "import numpy\n",
    "\n",
    "def getMinMax(arr):\n",
    "    mini=[]\n",
    "    maxi=[]\n",
    "    print(\"Number of rows in array is \",len(arr))\n",
    "    for i in range(len(arr)):\n",
    "        mini.append(arr[i].min())\n",
    "        maxi.append(arr[i].max())\n",
    "    return mini,maxi\n",
    "    \n",
    "        \n",
    "        \n",
    "    \n",
    "arr=np.random.randint(1,150,(10,10))\n",
    "print(\"Arrray is \\n\",arr)\n",
    "getMinMax(arr)\n",
    "\n",
    "\n"
   ]
  },
  {
   "cell_type": "code",
   "execution_count": 181,
   "metadata": {},
   "outputs": [
    {
     "name": "stdout",
     "output_type": "stream",
     "text": [
      "Arrray is \n",
      " [[ 25 142  16 108 138 107   8 107  21 101]\n",
      " [ 42 115  33 112  62 115  59  20  75  20]\n",
      " [ 94 117   4  97  32  98  19  72  36  14]\n",
      " [ 77  42  41 137  42  50 149  60  46   5]\n",
      " [ 30  48  77 115  39  93  78  83 133  31]\n",
      " [ 52  54 132  67 132  48   2 134 111  48]\n",
      " [134 101  65  86  77  76  51  85   9 147]\n",
      " [ 67  31 101  64  21  78  15  71 122 112]\n",
      " [ 32 112  11  50 125 131 105  57  79  89]\n",
      " [135  59 148 144   8  38  37  78  83 146]]\n"
     ]
    }
   ],
   "source": [
    "\n",
    "\n",
    "#getMinMax(arr)\n",
    "\n"
   ]
  },
  {
   "cell_type": "code",
   "execution_count": null,
   "metadata": {},
   "outputs": [],
   "source": []
  },
  {
   "cell_type": "code",
   "execution_count": null,
   "metadata": {},
   "outputs": [],
   "source": []
  }
 ],
 "metadata": {
  "kernelspec": {
   "display_name": "Python 3",
   "language": "python",
   "name": "python3"
  },
  "language_info": {
   "codemirror_mode": {
    "name": "ipython",
    "version": 3
   },
   "file_extension": ".py",
   "mimetype": "text/x-python",
   "name": "python",
   "nbconvert_exporter": "python",
   "pygments_lexer": "ipython3",
   "version": "3.7.4"
  }
 },
 "nbformat": 4,
 "nbformat_minor": 2
}
